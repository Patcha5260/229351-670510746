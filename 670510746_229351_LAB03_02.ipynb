{
  "cells": [
    {
      "cell_type": "markdown",
      "metadata": {
        "id": "rUWDxJYaXbGS"
      },
      "source": [
        "ปฏิบัติการครั้งที่ 3 กระบวนวิชา 229351 Statistical Learning for Data Science\n",
        "\n",
        "คำชี้แจง\n",
        "\n",
        "1. ให้เริ่มทำปฏิบัติการจาก colab notebook ที่กำหนดให้ จากนั้นบันทึกเป็นไฟล์ *.pdf"
      ]
    },
    {
      "cell_type": "markdown",
      "metadata": {
        "id": "40DP82euz0nP"
      },
      "source": [
        "### ในปฏิบัติการนี้เราจะฝึกการทำ PCA ด้วยสองวิธี คือ\n",
        "1. หาด้วยการแยกส่วนประกอบของเมทริกซ์ผ่าน numpy\n",
        "2. หาด้วยการใช้เครื่องมือที่มีมาให้ใน scikit-learn"
      ]
    },
    {
      "cell_type": "markdown",
      "metadata": {
        "id": "BFeBRlckOxSG"
      },
      "source": [
        "ดาวน์โหลดข้อมูลสัตว์ต่างๆ 50 ชนิดดังนี้  \n",
        "ชนิดสัตว์: https://donlapark.pages.dev/229351/data/classes.txt  \n",
        "ตัวแปรต่างๆ: https://donlapark.pages.dev/229351/data/predicates.txt  \n",
        "ค่าของสัตว์แต่ละชนิด: https://donlapark.pages.dev/229351/data/predicate-matrix-continuous.txt"
      ]
    },
    {
      "cell_type": "code",
      "execution_count": 44,
      "metadata": {
        "id": "j_cb12E477_I"
      },
      "outputs": [],
      "source": [
        "!pip install -q wget\n",
        "\n",
        "import numpy as np\n",
        "from matplotlib import pyplot as plt\n",
        "from sklearn.decomposition import PCA\n",
        "\n"
      ]
    },
    {
      "cell_type": "code",
      "execution_count": 45,
      "metadata": {
        "id": "m4HFWsz5j8sS",
        "outputId": "ca65c413-e488-4166-f174-001ba4c2e00f",
        "colab": {
          "base_uri": "https://localhost:8080/"
        }
      },
      "outputs": [
        {
          "output_type": "stream",
          "name": "stdout",
          "text": [
            "--2025-07-23 13:11:31--  https://donlapark.pages.dev/229351/data/classes.txt\n",
            "Resolving donlapark.pages.dev (donlapark.pages.dev)... 172.66.47.56, 172.66.44.200, 2606:4700:310c::ac42:2f38, ...\n",
            "Connecting to donlapark.pages.dev (donlapark.pages.dev)|172.66.47.56|:443... connected.\n",
            "HTTP request sent, awaiting response... 200 OK\n",
            "Length: 755 [text/plain]\n",
            "Saving to: ‘classes.txt’\n",
            "\n",
            "\rclasses.txt           0%[                    ]       0  --.-KB/s               \rclasses.txt         100%[===================>]     755  --.-KB/s    in 0s      \n",
            "\n",
            "2025-07-23 13:11:31 (11.8 MB/s) - ‘classes.txt’ saved [755/755]\n",
            "\n",
            "--2025-07-23 13:11:31--  https://donlapark.pages.dev/229351/data/predicate-matrix-continuous.txt\n",
            "Resolving donlapark.pages.dev (donlapark.pages.dev)... 172.66.47.56, 172.66.44.200, 2606:4700:310c::ac42:2f38, ...\n",
            "Connecting to donlapark.pages.dev (donlapark.pages.dev)|172.66.47.56|:443... connected.\n",
            "HTTP request sent, awaiting response... 200 OK\n",
            "Length: 29800 (29K) [text/plain]\n",
            "Saving to: ‘predicate-matrix-continuous.txt’\n",
            "\n",
            "predicate-matrix-co 100%[===================>]  29.10K  --.-KB/s    in 0s      \n",
            "\n",
            "2025-07-23 13:11:31 (101 MB/s) - ‘predicate-matrix-continuous.txt’ saved [29800/29800]\n",
            "\n"
          ]
        }
      ],
      "source": [
        "# Download the files\n",
        "!wget -O classes.txt https://donlapark.pages.dev/229351/data/classes.txt\n",
        "!wget -O predicate-matrix-continuous.txt https://donlapark.pages.dev/229351/data/predicate-matrix-continuous.txt"
      ]
    },
    {
      "cell_type": "code",
      "execution_count": 46,
      "metadata": {
        "id": "5Tebr3-dBKxj",
        "outputId": "22d3393b-9976-4982-a5fd-c3d09fc8c5b9",
        "colab": {
          "base_uri": "https://localhost:8080/"
        }
      },
      "outputs": [
        {
          "output_type": "execute_result",
          "data": {
            "text/plain": [
              "array([['1', 'antelope'],\n",
              "       ['2', 'grizzly+bear'],\n",
              "       ['3', 'killer+whale'],\n",
              "       ['4', 'beaver'],\n",
              "       ['5', 'dalmatian']], dtype='<U15')"
            ]
          },
          "metadata": {},
          "execution_count": 46
        }
      ],
      "source": [
        "classes = np.genfromtxt('classes.txt',dtype='str')\n",
        "\n",
        "classes[:5]"
      ]
    },
    {
      "cell_type": "code",
      "execution_count": 47,
      "metadata": {
        "id": "O_4Mr2OWaAae",
        "outputId": "10635596-9102-4e3b-acf4-01f53cea2d1d",
        "colab": {
          "base_uri": "https://localhost:8080/"
        }
      },
      "outputs": [
        {
          "output_type": "execute_result",
          "data": {
            "text/plain": [
              "array([[-1.  , -1.  , -1.  , -1.  , 12.34],\n",
              "       [39.25,  1.39,  0.  , 74.14,  3.75],\n",
              "       [83.4 , 64.79,  0.  ,  0.  ,  1.25],\n",
              "       [19.38,  0.  ,  0.  , 87.81,  7.5 ],\n",
              "       [69.58, 73.33,  0.  ,  6.39,  0.  ]])"
            ]
          },
          "metadata": {},
          "execution_count": 47
        }
      ],
      "source": [
        "data = np.genfromtxt('predicate-matrix-continuous.txt')\n",
        "\n",
        "data[:5,:5]"
      ]
    },
    {
      "cell_type": "markdown",
      "metadata": {
        "id": "DntRinCFiSMx"
      },
      "source": [
        "#### Exercise 1\n",
        "\n",
        "ใน code block ข้างล่างนี้ จงทำ PCA บนข้อมูลที่ได้มาให้เหลือเมทริกซ์ข้อมูลที่มีตัวแปรแค่ 2 ตัว โดยใช้ฟังก์ชัน $\\texttt{np.linalg.eigh}$  \n",
        "ดังนั้น เมทริกซ์ที่ได้ต้องมีขนาด 50x2"
      ]
    },
    {
      "cell_type": "markdown",
      "metadata": {
        "id": "H-aWhy49CquB"
      },
      "source": [
        "$$ \\Sigma =\n",
        "  \\begin{pmatrix}\n",
        "\\text{var}(X_1) & \\text{cov}(X_1,X_2) & \\cdots & \\text{cov}(X_1,X_{85}) \\\\\n",
        "\\text{cov}(X_2,X_1) & \\text{var}(X_2) & \\cdots & \\text{cov}(X_2,X_{85}) \\\\\n",
        "\\vdots & \\vdots & \\ddots & \\vdots \\\\\n",
        "\\text{cov}(X_{85},X_1) & \\text{cov}(X_{85},X_1) & \\cdots & \\text{var}(X_{85}) \\\\\n",
        "\\end{pmatrix}\n",
        " $$"
      ]
    },
    {
      "cell_type": "code",
      "execution_count": 48,
      "metadata": {
        "id": "-gCRXKb8fkuH",
        "scrolled": true
      },
      "outputs": [],
      "source": [
        "# TODO: enter code here\n",
        "# 1. Center ข้อมูล สมมติว่า data_c คือ normalized (centered) data\n",
        "\n",
        "# 2. หา covariance matrix\n",
        "\n",
        "# 3. Decompose the covariance matrix UDU^T\n",
        "\n",
        "# 4. ดึง column ของ U ที่ประกอบไปด้วย eigenvector สองตัวที่มีค่า eigenvalue สูงที่สุด\n",
        "\n",
        "# 5. เอา data_c ไปทำ projection ทิศทางของ eigenvector ใน U\n",
        "\n",
        "# Result: a (50,2) matrix\n"
      ]
    },
    {
      "cell_type": "code",
      "source": [
        "data_c = np.random.rand(50,2)\n",
        "np.mean(data_c, axis=0)\n",
        "data_c = data_c - np.mean(data_c, axis=0)\n",
        "\n",
        "A = np.cov(data_c, rowvar=False)\n",
        "\n",
        "print(data_c, '<- data_c\\n\\n')\n",
        "print(A, '<- A')"
      ],
      "metadata": {
        "id": "_20UFlCVgnVk",
        "colab": {
          "base_uri": "https://localhost:8080/"
        },
        "outputId": "11e026a8-f4b1-4b01-afbe-c43a70ec924d"
      },
      "execution_count": 49,
      "outputs": [
        {
          "output_type": "stream",
          "name": "stdout",
          "text": [
            "[[-0.40503029  0.5069115 ]\n",
            " [-0.29244186  0.35887773]\n",
            " [-0.18924696  0.30355255]\n",
            " [ 0.15907808  0.3287168 ]\n",
            " [ 0.33001473 -0.35385059]\n",
            " [ 0.28548246  0.17088949]\n",
            " [ 0.185175    0.16794221]\n",
            " [-0.19942606 -0.43535574]\n",
            " [-0.42943703  0.33282289]\n",
            " [-0.01794796 -0.22533679]\n",
            " [ 0.23706185  0.22022539]\n",
            " [-0.22012942 -0.11145091]\n",
            " [-0.02182445 -0.15389926]\n",
            " [ 0.11665797 -0.36307945]\n",
            " [ 0.22302503  0.39984369]\n",
            " [ 0.27103101 -0.38790988]\n",
            " [ 0.40948397 -0.33152878]\n",
            " [ 0.43275903  0.24731194]\n",
            " [-0.47899387 -0.22792828]\n",
            " [ 0.19100243 -0.33565649]\n",
            " [-0.34738104  0.09537995]\n",
            " [-0.18523171  0.21431453]\n",
            " [ 0.46081654 -0.42777966]\n",
            " [-0.34821447  0.22009873]\n",
            " [-0.04629917  0.3260467 ]\n",
            " [-0.07635693  0.40307893]\n",
            " [-0.25251821  0.02201595]\n",
            " [ 0.15685345 -0.30351182]\n",
            " [ 0.15402706  0.27755792]\n",
            " [-0.37578839  0.043331  ]\n",
            " [ 0.22524125 -0.42106334]\n",
            " [ 0.12504504  0.31790364]\n",
            " [ 0.23361619  0.44710789]\n",
            " [ 0.19119756 -0.4583007 ]\n",
            " [-0.06271699 -0.24425189]\n",
            " [-0.48903461  0.21005034]\n",
            " [-0.11412881 -0.28108142]\n",
            " [ 0.31681081 -0.35847426]\n",
            " [-0.36975659  0.27546521]\n",
            " [-0.42151711 -0.14480105]\n",
            " [ 0.17510881  0.01639784]\n",
            " [ 0.45879412  0.0413062 ]\n",
            " [ 0.31107323 -0.24268843]\n",
            " [-0.0908288   0.1687538 ]\n",
            " [ 0.16523395  0.41126314]\n",
            " [ 0.13326227 -0.30130485]\n",
            " [-0.45393746 -0.06839127]\n",
            " [ 0.08251876 -0.05783201]\n",
            " [ 0.10673468 -0.25307457]\n",
            " [-0.24891712 -0.03861453]] <- data_c\n",
            "\n",
            "\n",
            "[[ 0.07915149 -0.02174947]\n",
            " [-0.02174947  0.08628906]] <- A\n"
          ]
        }
      ]
    },
    {
      "cell_type": "code",
      "source": [
        "specA = np.linalg.eigh(A)\n",
        "specA"
      ],
      "metadata": {
        "id": "MBD-2uBygq1d",
        "colab": {
          "base_uri": "https://localhost:8080/"
        },
        "outputId": "0e29d42f-8535-4e1c-bfa2-3b8e082adc7f"
      },
      "execution_count": 51,
      "outputs": [
        {
          "output_type": "execute_result",
          "data": {
            "text/plain": [
              "EighResult(eigenvalues=array([0.06067996, 0.10476059]), eigenvectors=array([[-0.76220758, -0.64733269],\n",
              "       [-0.64733269,  0.76220758]]))"
            ]
          },
          "metadata": {},
          "execution_count": 51
        }
      ]
    },
    {
      "cell_type": "code",
      "source": [
        "D = specA[0]\n",
        "U = specA[1]\n",
        "\n",
        "print(D)\n",
        "print(U)"
      ],
      "metadata": {
        "id": "PPRI79dggt_S",
        "colab": {
          "base_uri": "https://localhost:8080/"
        },
        "outputId": "57318461-fa1a-4663-aa04-4982ec7267e0"
      },
      "execution_count": 52,
      "outputs": [
        {
          "output_type": "stream",
          "name": "stdout",
          "text": [
            "[0.06067996 0.10476059]\n",
            "[[-0.76220758 -0.64733269]\n",
            " [-0.64733269  0.76220758]]\n"
          ]
        }
      ]
    },
    {
      "cell_type": "code",
      "source": [
        "diagD = np.diag(D)\n",
        "\n",
        "print(diagD)"
      ],
      "metadata": {
        "colab": {
          "base_uri": "https://localhost:8080/"
        },
        "id": "_51tT4vVcJVW",
        "outputId": "fa7b2005-94bb-4cb4-e481-4ec0f3d22c64"
      },
      "execution_count": 53,
      "outputs": [
        {
          "output_type": "stream",
          "name": "stdout",
          "text": [
            "[[0.06067996 0.        ]\n",
            " [0.         0.10476059]]\n"
          ]
        }
      ]
    },
    {
      "cell_type": "code",
      "source": [
        "l_2 = D[-1] #eigenvalue ที่มีค่าสูงที่สุด\n",
        "l_3 = D[-2] #eigenvalue ที่มีค่ารองลงมา\n",
        "\n",
        "U_23 = U[:,-2:]\n",
        "\n",
        "\n",
        "print(U_23, ' <- U_2')"
      ],
      "metadata": {
        "colab": {
          "base_uri": "https://localhost:8080/"
        },
        "id": "lks9ie-4SvIS",
        "outputId": "d0354188-e870-4c56-8189-1eec9b52af96"
      },
      "execution_count": 54,
      "outputs": [
        {
          "output_type": "stream",
          "name": "stdout",
          "text": [
            "[[-0.76220758 -0.64733269]\n",
            " [-0.64733269  0.76220758]]  <- U_2\n"
          ]
        }
      ]
    },
    {
      "cell_type": "code",
      "source": [
        "M2 = data_c @ U_23  # M คือ matrix ที่มีข้อมูลอยู่\n",
        "\n",
        "# not U_23 @ M\n",
        "\n",
        "print(M2)"
      ],
      "metadata": {
        "colab": {
          "base_uri": "https://localhost:8080/"
        },
        "id": "ALGadlV8TKC-",
        "outputId": "841f7812-29e2-4c10-f3d2-2ed5b72ce17d"
      },
      "execution_count": 55,
      "outputs": [
        {
          "output_type": "stream",
          "name": "stdout",
          "text": [
            "[[-0.01942323  0.64856113]\n",
            " [-0.00941189  0.4628465 ]\n",
            " [-0.05225402  0.3538758 ]\n",
            " [-0.33403965  0.147574  ]\n",
            " [-0.02248067 -0.48333693]\n",
            " [-0.32821924 -0.05454886]\n",
            " [-0.24985627  0.00813699]\n",
            " [ 0.43382406 -0.20273644]\n",
            " [ 0.11187302  0.53166876]\n",
            " [ 0.15954794 -0.16013511]\n",
            " [-0.32324944  0.01439958]\n",
            " [ 0.23993013  0.05754825]\n",
            " [ 0.11625878 -0.1031755 ]\n",
            " [ 0.1461156  -0.35225843]\n",
            " [-0.42882326  0.1603925 ]\n",
            " [ 0.04452485 -0.47111508]\n",
            " [-0.09750237 -0.51776611]\n",
            " [-0.48994531 -0.09163603]\n",
            " [ 0.51263819  0.13633973]\n",
            " [ 0.07169791 -0.37948203]\n",
            " [ 0.2030339   0.29757042]\n",
            " [ 0.00245221  0.2832587 ]\n",
            " [-0.0743221  -0.6243585 ]\n",
            " [ 0.12293461  0.39317153]\n",
            " [-0.17577111  0.27848623]\n",
            " [-0.20272634  0.35665815]\n",
            " [ 0.17821965  0.18024402]\n",
            " [ 0.07691823 -0.33287538]\n",
            " [-0.2970729   0.11185   ]\n",
            " [ 0.25837919  0.27628732]\n",
            " [ 0.10088747 -0.46674369]\n",
            " [-0.30109969  0.16136282]\n",
            " [-0.46749159  0.18956162]\n",
            " [ 0.15094079 -0.4730887 ]\n",
            " [ 0.2059156  -0.14557188]\n",
            " [ 0.23677344  0.47667005]\n",
            " [ 0.26894303 -0.14036308]\n",
            " [-0.00942349 -0.47831379]\n",
            " [ 0.10351365  0.4493172 ]\n",
            " [ 0.41501799  0.16249334]\n",
            " [-0.14408412 -0.1008551 ]\n",
            " [-0.37643521 -0.26550853]\n",
            " [-0.08000222 -0.38634683]\n",
            " [-0.04000945  0.18742188]\n",
            " [-0.39216664  0.20650655]\n",
            " [ 0.09347096 -0.31592186]\n",
            " [ 0.39026647  0.24172021]\n",
            " [-0.02545987 -0.09749709]\n",
            " [ 0.08246946 -0.2619882 ]\n",
            " [ 0.21472296  0.1316999 ]]\n"
          ]
        }
      ]
    },
    {
      "cell_type": "markdown",
      "metadata": {
        "id": "refYgya0jlfh"
      },
      "source": [
        "#### OPTIONAL\n",
        "\n",
        "ใน code block ข้างล่างนี้ จงทำ PCA บนข้อมูลที่ได้มาให้เหลือเมทริกซ์ข้อมูลที่มีตัวแปรแค่ 2 ตัว โดยใช้ $scikit-learn$  \n",
        "พร้อมกับตรวจสอบว่าเมทริกซ์ที่ได้จากทั้งสองวิธีนี้มีค่าเท่ากัน (ต่างกันแค่ค่าบวกลบ)"
      ]
    },
    {
      "cell_type": "code",
      "source": [
        "import PCA"
      ],
      "metadata": {
        "id": "Je23TZDqDnc9",
        "colab": {
          "base_uri": "https://localhost:8080/",
          "height": 200
        },
        "outputId": "443f355f-d866-48dd-a61b-36a2cf511acd"
      },
      "execution_count": 38,
      "outputs": [
        {
          "output_type": "error",
          "ename": "NameError",
          "evalue": "name 'M' is not defined",
          "traceback": [
            "\u001b[0;31m---------------------------------------------------------------------------\u001b[0m",
            "\u001b[0;31mNameError\u001b[0m                                 Traceback (most recent call last)",
            "\u001b[0;32m/tmp/ipython-input-38-3119001409.py\u001b[0m in \u001b[0;36m<cell line: 0>\u001b[0;34m()\u001b[0m\n\u001b[1;32m      3\u001b[0m \u001b[0;34m\u001b[0m\u001b[0m\n\u001b[1;32m      4\u001b[0m \u001b[0mpca\u001b[0m \u001b[0;34m=\u001b[0m \u001b[0mPCA\u001b[0m\u001b[0;34m(\u001b[0m\u001b[0mn_components\u001b[0m\u001b[0;34m=\u001b[0m\u001b[0;36m2\u001b[0m\u001b[0;34m)\u001b[0m\u001b[0;34m\u001b[0m\u001b[0;34m\u001b[0m\u001b[0m\n\u001b[0;32m----> 5\u001b[0;31m \u001b[0mB2\u001b[0m \u001b[0;34m=\u001b[0m \u001b[0mpca\u001b[0m\u001b[0;34m.\u001b[0m\u001b[0mfit_transform\u001b[0m\u001b[0;34m(\u001b[0m\u001b[0mM\u001b[0m\u001b[0;34m)\u001b[0m\u001b[0;34m\u001b[0m\u001b[0;34m\u001b[0m\u001b[0m\n\u001b[0m\u001b[1;32m      6\u001b[0m \u001b[0mprint\u001b[0m\u001b[0;34m(\u001b[0m\u001b[0mB2\u001b[0m\u001b[0;34m)\u001b[0m\u001b[0;34m\u001b[0m\u001b[0;34m\u001b[0m\u001b[0m\n",
            "\u001b[0;31mNameError\u001b[0m: name 'M' is not defined"
          ]
        }
      ]
    },
    {
      "cell_type": "code",
      "execution_count": 56,
      "metadata": {
        "id": "TWoz-qMICQsv",
        "colab": {
          "base_uri": "https://localhost:8080/"
        },
        "outputId": "46a5ccd2-6291-4158-9e64-ced0c32c3f53"
      },
      "outputs": [
        {
          "output_type": "stream",
          "name": "stdout",
          "text": [
            "[[ 0.64856113  0.01942323]\n",
            " [ 0.4628465   0.00941189]\n",
            " [ 0.3538758   0.05225402]\n",
            " [ 0.147574    0.33403965]\n",
            " [-0.48333693  0.02248067]\n",
            " [-0.05454886  0.32821924]\n",
            " [ 0.00813699  0.24985627]\n",
            " [-0.20273644 -0.43382406]\n",
            " [ 0.53166876 -0.11187302]\n",
            " [-0.16013511 -0.15954794]\n",
            " [ 0.01439958  0.32324944]\n",
            " [ 0.05754825 -0.23993013]\n",
            " [-0.1031755  -0.11625878]\n",
            " [-0.35225843 -0.1461156 ]\n",
            " [ 0.1603925   0.42882326]\n",
            " [-0.47111508 -0.04452485]\n",
            " [-0.51776611  0.09750237]\n",
            " [-0.09163603  0.48994531]\n",
            " [ 0.13633973 -0.51263819]\n",
            " [-0.37948203 -0.07169791]\n",
            " [ 0.29757042 -0.2030339 ]\n",
            " [ 0.2832587  -0.00245221]\n",
            " [-0.6243585   0.0743221 ]\n",
            " [ 0.39317153 -0.12293461]\n",
            " [ 0.27848623  0.17577111]\n",
            " [ 0.35665815  0.20272634]\n",
            " [ 0.18024402 -0.17821965]\n",
            " [-0.33287538 -0.07691823]\n",
            " [ 0.11185     0.2970729 ]\n",
            " [ 0.27628732 -0.25837919]\n",
            " [-0.46674369 -0.10088747]\n",
            " [ 0.16136282  0.30109969]\n",
            " [ 0.18956162  0.46749159]\n",
            " [-0.4730887  -0.15094079]\n",
            " [-0.14557188 -0.2059156 ]\n",
            " [ 0.47667005 -0.23677344]\n",
            " [-0.14036308 -0.26894303]\n",
            " [-0.47831379  0.00942349]\n",
            " [ 0.4493172  -0.10351365]\n",
            " [ 0.16249334 -0.41501799]\n",
            " [-0.1008551   0.14408412]\n",
            " [-0.26550853  0.37643521]\n",
            " [-0.38634683  0.08000222]\n",
            " [ 0.18742188  0.04000945]\n",
            " [ 0.20650655  0.39216664]\n",
            " [-0.31592186 -0.09347096]\n",
            " [ 0.24172021 -0.39026647]\n",
            " [-0.09749709  0.02545987]\n",
            " [-0.2619882  -0.08246946]\n",
            " [ 0.1316999  -0.21472296]]\n"
          ]
        }
      ],
      "source": [
        "#TODO (optional): enter code here\n",
        "from sklearn.decomposition import PCA\n",
        "\n",
        "pca = PCA(n_components=2)\n",
        "B2 = pca.fit_transform(data_c)\n",
        "print(B2)"
      ]
    },
    {
      "cell_type": "markdown",
      "metadata": {
        "id": "kvxBs5Hlk5rZ"
      },
      "source": [
        "#### Exercise 2\n",
        "\n",
        "ทำการพล็อตจุดของข้อมูลที่ได้จาก PCA ข้างบนพร้อมกับใส่คำกำกับว่าจุดไหนเป็นของสัตว์ชนิดใดโดยใช้ชื่อสัตว์จาก classes.txt"
      ]
    },
    {
      "cell_type": "code",
      "source": [
        "# กำหนดขนาดของรูป\n",
        "plt.figure(figsize=(12,16))\n",
        "\n",
        "# จงเติม argument ที่เหมาะสมในวงเล็บข้างล่างนี้\n",
        "# รูปแบบของฟังก์ชันคือ plt.scatter(numpy array ของ x-coordinate, numpy array ของ y-coordinate)\n",
        "plt.scatter( data_c[:,0], data_c[:,1] )\n",
        "\n",
        "# for loop เพื่อใส่คำกำกับ (annotate) ชื่อสัตว์ของแต่ละจุด วนให้ครบสัตว์ทุกชนิดที่อยู่ใน classes\n",
        "# ใส่ numpy array ที่ผ่านการทำ PCA แล้วลงในตำแหน่งที่ระบุเพื่อบอกพิกัดที่ต้องวางคำกำกับ\n",
        "for i in range(50):\n",
        "  plt.annotate(\n",
        "          classes[i,1],\n",
        "          xy=(data_c[i,0],\n",
        "              data_c[i,1]),\n",
        "              xytext=(5, -8),\n",
        "              textcoords='offset pixels')\n",
        "\n",
        "\n",
        "plt.show()"
      ],
      "metadata": {
        "colab": {
          "base_uri": "https://localhost:8080/",
          "height": 1000
        },
        "id": "jON5VQapYm-q",
        "outputId": "092093f3-a0d6-429e-9fde-f95a5a7d1d24"
      },
      "execution_count": 59,
      "outputs": [
        {
          "output_type": "display_data",
          "data": {
            "text/plain": [
              "<Figure size 1200x1600 with 1 Axes>"
            ],
            "image/png": "[encoded data removed]"
          },
          "metadata": {}
        }
      ]
    },
    {
      "cell_type": "markdown",
      "metadata": {
        "id": "pp8J2lKI0Vea"
      },
      "source": [
        "#### Exercise 3\n",
        "\n",
        "หากลุ่มสัตว์ต่างๆ ที่อยู่ใกล้กันมา 4 กลุ่ม แล้วลองอธิบายว่าสัตว์ในแต่ละกลุ่มมีอะไรที่เหมือนกัน"
      ]
    },
    {
      "cell_type": "markdown",
      "metadata": {
        "id": "SvI3Rwjcpt6c"
      },
      "source": [
        "1. ตัวอย่าง: กลุ่มสัตว์ที่มุมขวาบน ตัวอย่างเช่น... มีลักษณะที่เหมือนกันคือ...\n",
        "\n",
        "2.กลุ่มสัตว์กลางถึงขวาล่าง: กลุ่มนี้มีสัตว์กินเนื้อ เสือ, สิงโต, หมีกริซลีย์, หมาป่า, แมวป่า และสัตว์ที่มีพฤติกรรมล่าหรือคุณลักษณะที่ดุร้าย\n",
        "\n",
        "3.กลุ่มสัตว์ล่างซ้ายถึงกลางล่าง:\n",
        "กลุ่มนี้มีสัตว์เลี้ยงลูกด้วยนมขนาดใหญ่หลายชนิดและเป็นสัตว์กินพืช ช้าง, กวาง, ควาย, วัว, ฮิปโปโปเตมัส, แรด, ยีราฟ\n",
        "\n",
        "4.กลุ่มสัตว์กลางซ้าย ส่วนใหญ่เป็นสัตว์ที่อาศัยอยู่ในน้ำ หรือใกล้แหล่งน้ำ วาฬสีน้ำเงิน, นาก, แมวน้ำ, โลมา, วอลรัส\n",
        "ซึ่งอาจมีลักษณะการเคลื่อนที่หรือที่อยู่คล้ายกัน"
      ]
    }
  ],
  "metadata": {
    "colab": {
      "provenance": []
    },
    "kernelspec": {
      "display_name": "Python 3 (ipykernel)",
      "language": "python",
      "name": "python3"
    },
    "language_info": {
      "codemirror_mode": {
        "name": "ipython",
        "version": 3
      },
      "file_extension": ".py",
      "mimetype": "text/x-python",
      "name": "python",
      "nbconvert_exporter": "python",
      "pygments_lexer": "ipython3",
      "version": "3.10.12"
    }
  },
  "nbformat": 4,
  "nbformat_minor": 0
}